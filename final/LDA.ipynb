{
 "cells": [
  {
   "cell_type": "code",
   "execution_count": 15,
   "metadata": {
    "collapsed": true
   },
   "outputs": [],
   "source": [
    "import matplotlib\n",
    "\n",
    "%matplotlib inline"
   ]
  },
  {
   "cell_type": "code",
   "execution_count": 85,
   "metadata": {
    "collapsed": false,
    "scrolled": true
   },
   "outputs": [],
   "source": [
    "# The first thing to do is to import the relevant packages\n",
    "# that I will need for my script, \n",
    "# these include the Numpy (for maths and arrays)\n",
    "# and csv for reading and writing csv files\n",
    "# If i want to use something from this I need to call \n",
    "# csv.[function] or np.[function] first\n",
    "\n",
    "import csv as csv \n",
    "import numpy as np\n",
    "\n",
    "# Open up the csv file in to a Python object\n",
    "data_all = []\n",
    "with open('events.csv', encoding=\"utf8\") as train_file:\n",
    "    csv_reader = csv.reader(train_file, delimiter=';', quotechar='\"')\n",
    "    for row in csv_reader:\n",
    "        data_all.append(row)\n",
    "data_all = np.array(data_all)\n",
    "data = data_all[1::]\n"
   ]
  },
  {
   "cell_type": "code",
   "execution_count": 199,
   "metadata": {
    "collapsed": false,
    "scrolled": false
   },
   "outputs": [
    {
     "data": {
      "text/html": [
       "<div>\n",
       "<table border=\"1\" class=\"dataframe\">\n",
       "  <thead>\n",
       "    <tr style=\"text-align: right;\">\n",
       "      <th></th>\n",
       "      <th>Description</th>\n",
       "      <th>Details</th>\n",
       "    </tr>\n",
       "  </thead>\n",
       "  <tbody>\n",
       "    <tr>\n",
       "      <th>0</th>\n",
       "      <td>Rencontre autour des nouveaux usages, de la pa...</td>\n",
       "      <td>Que recouvre aujourd’hui la notion de particip...</td>\n",
       "    </tr>\n",
       "    <tr>\n",
       "      <th>1</th>\n",
       "      <td>Découverte des risques toxicologiques des cham...</td>\n",
       "      <td>Découvrez les risques toxicologiques par des d...</td>\n",
       "    </tr>\n",
       "    <tr>\n",
       "      <th>2</th>\n",
       "      <td>Une enquête sur un empoisonnement</td>\n",
       "      <td>Devenez détectives et élucidez l'enquête qui v...</td>\n",
       "    </tr>\n",
       "    <tr>\n",
       "      <th>3</th>\n",
       "      <td>Apprendre à dépister des substances toxiques</td>\n",
       "      <td>En laboratoire, comme dans la vie de tous les ...</td>\n",
       "    </tr>\n",
       "    <tr>\n",
       "      <th>4</th>\n",
       "      <td>Expositions et animations autour de l'expérime...</td>\n",
       "      <td>**Le Réseau des maisons de l’architecture orga...</td>\n",
       "    </tr>\n",
       "    <tr>\n",
       "      <th>5</th>\n",
       "      <td>Agence de marketing d'influence</td>\n",
       "      <td>NaN</td>\n",
       "    </tr>\n",
       "    <tr>\n",
       "      <th>6</th>\n",
       "      <td>dans le cadre du festival Bar-Bars</td>\n",
       "      <td>Déroutant et imprévisible : Gratuit ne fait ja...</td>\n",
       "    </tr>\n",
       "    <tr>\n",
       "      <th>7</th>\n",
       "      <td>dans le cadre du festival Bar-Bars</td>\n",
       "      <td>Dj Barbarpapa en exclusivité au Barablabla le ...</td>\n",
       "    </tr>\n",
       "    <tr>\n",
       "      <th>8</th>\n",
       "      <td>dans le cadre du festival Bar-Bars</td>\n",
       "      <td>Nouch'Ma est un duo guitare/violon naviguant e...</td>\n",
       "    </tr>\n",
       "    <tr>\n",
       "      <th>9</th>\n",
       "      <td>dans le cadre du festival Bar-Bars</td>\n",
       "      <td>Bas d'Plafond, c'est quelque part entre Babylo...</td>\n",
       "    </tr>\n",
       "  </tbody>\n",
       "</table>\n",
       "</div>"
      ],
      "text/plain": [
       "                                         Description  \\\n",
       "0  Rencontre autour des nouveaux usages, de la pa...   \n",
       "1  Découverte des risques toxicologiques des cham...   \n",
       "2                  Une enquête sur un empoisonnement   \n",
       "3       Apprendre à dépister des substances toxiques   \n",
       "4  Expositions et animations autour de l'expérime...   \n",
       "5                    Agence de marketing d'influence   \n",
       "6                 dans le cadre du festival Bar-Bars   \n",
       "7                 dans le cadre du festival Bar-Bars   \n",
       "8                 dans le cadre du festival Bar-Bars   \n",
       "9                 dans le cadre du festival Bar-Bars   \n",
       "\n",
       "                                             Details  \n",
       "0  Que recouvre aujourd’hui la notion de particip...  \n",
       "1  Découvrez les risques toxicologiques par des d...  \n",
       "2  Devenez détectives et élucidez l'enquête qui v...  \n",
       "3  En laboratoire, comme dans la vie de tous les ...  \n",
       "4  **Le Réseau des maisons de l’architecture orga...  \n",
       "5                                                NaN  \n",
       "6  Déroutant et imprévisible : Gratuit ne fait ja...  \n",
       "7  Dj Barbarpapa en exclusivité au Barablabla le ...  \n",
       "8  Nouch'Ma est un duo guitare/violon naviguant e...  \n",
       "9  Bas d'Plafond, c'est quelque part entre Babylo...  "
      ]
     },
     "execution_count": 199,
     "metadata": {},
     "output_type": "execute_result"
    }
   ],
   "source": [
    "import pandas as pd\n",
    "import re\n",
    "\n",
    "data = pd.read_csv('events.csv', sep=';')\n",
    "\n",
    "#population_age = df.Link.astype(np.float)\n",
    "#print(data.Description)\n",
    "#print(data.Details)\n",
    "\n",
    "df = data[['Description','Details']]\n",
    "\n",
    "df[0:10]"
   ]
  },
  {
   "cell_type": "markdown",
   "metadata": {},
   "source": [
    "## Netoyage des données\n",
    "\n",
    "LDA a besoin que chaque phrase soit découpé sous forme d'un tableau de mots minuscules. On réfléchira par la suite sur le fait que plusieurs"
   ]
  },
  {
   "cell_type": "code",
   "execution_count": null,
   "metadata": {
    "collapsed": true
   },
   "outputs": [],
   "source": []
  },
  {
   "cell_type": "code",
   "execution_count": 179,
   "metadata": {
    "collapsed": false,
    "scrolled": true
   },
   "outputs": [],
   "source": [
    "from nltk.tokenize import RegexpTokenizer\n",
    "tokenizer = RegexpTokenizer(r'\\w+')\n",
    "\n",
    "\n",
    "for item in data.Description:\n",
    "    if type(item) is str :\n",
    "        raw = item.lower()\n",
    "        token = tokenizer.tokenize(raw)\n",
    "        #print(token)\n",
    "\n",
    "\n"
   ]
  },
  {
   "cell_type": "code",
   "execution_count": 204,
   "metadata": {
    "collapsed": false
   },
   "outputs": [
    {
     "name": "stdout",
     "output_type": "stream",
     "text": [
      "['auront', 'aussi', 'autre', 'aux', 'avaient', 'avais', 'avait', 'avant', 'avec', 'avez', 'aviez', 'avions', 'avoir', 'avons', 'ayant', 'ayez', 'ayons', 'bon', 'car', 'ce', 'ceci', 'cela', 'ces', 'cet', 'cette', 'ceux', 'chaque', 'ci', 'comme', 'comment', 'd', 'dans', 'de', 'dedans', 'dehors', 'depuis', 'des', 'deux', 'devoir', 'devrait']\n"
     ]
    }
   ],
   "source": [
    "#ON SUPPRIME LES STOP WORDS (mot du langage)\n",
    "from stop_words import get_stop_words\n",
    "\n",
    "# create English stop words list\n",
    "#en_stop = get_stop_words('en')\n",
    "\n",
    "# create French stop words list\n",
    "fr_stop = get_stop_words('fr')\n",
    "\n",
    "print(fr_stop[20:60])\n"
   ]
  },
  {
   "cell_type": "markdown",
   "metadata": {},
   "source": [
    "# Stop words\n",
    "Certain parts of English speech, like conjunctions (“for”, “or”) or the word “the” are meaningless to a topic model. \n",
    "These terms are called stop words and need to be removed from our token list."
   ]
  },
  {
   "cell_type": "markdown",
   "metadata": {},
   "source": [
    "#### On enlève les STOP WORDS des phrases"
   ]
  },
  {
   "cell_type": "code",
   "execution_count": 216,
   "metadata": {
    "collapsed": false
   },
   "outputs": [
    {
     "name": "stdout",
     "output_type": "stream",
     "text": [
      "0    [rencontre, autour, usages, participation, nou...\n",
      "1    [découverte, risques, toxicologiques, champign...\n",
      "2    [enquête, empoisonnement, devenez, détectives,...\n",
      "3    [apprendre, dépister, substances, toxiques, la...\n",
      "4    [expositions, animations, autour, expérimentat...\n",
      "5                  [agence, marketing, influence, nan]\n",
      "6    [cadre, festival, bar, bars, déroutant, imprév...\n",
      "7    [cadre, festival, bar, bars, dj, barbarpapa, e...\n",
      "dtype: object\n"
     ]
    }
   ],
   "source": [
    "\n",
    "tokens_stop_serie = pd.Series()\n",
    "i=0\n",
    "\n",
    "for item in data.Description:\n",
    "        raw = str(item) +' '+ str(data.Details[i])\n",
    "        token = tokenizer.tokenize(raw.lower())\n",
    "        stopped_tokens = [i for i in token if not i in fr_stop]\n",
    "        tokens_stop_serie = tokens_stop_serie.set_value(i,stopped_tokens)\n",
    "        i+=1\n",
    "        \n",
    "print(tokens_stop_serie[0:8])\n",
    "    \n"
   ]
  },
  {
   "cell_type": "markdown",
   "metadata": {},
   "source": [
    "# Stemming\n",
    "Stemming words is another common NLP technique to reduce topically similar words to their root. \n",
    "For example, “nantaise,” “nantes,” “nantais,” all have similar meanings; stemming reduces those terms to “nant” \n",
    "This is important for topic modeling, which would otherwise view those terms as separate entities and reduce \n",
    "their importance in the model"
   ]
  },
  {
   "cell_type": "code",
   "execution_count": 217,
   "metadata": {
    "collapsed": false
   },
   "outputs": [
    {
     "name": "stdout",
     "output_type": "stream",
     "text": [
      "0    [rencontr, autour, usag, particip, nouvel, for...\n",
      "1    [découvert, risqu, toxicolog, champignon, frai...\n",
      "2    [enquêt, empoison, deven, détect, élucid, enqu...\n",
      "3    [apprendr, dépist, substanc, toxiqu, laboratoi...\n",
      "4    [exposit, anim, autour, expériment, class, cm2...\n",
      "5                    [agenc, marketing, influenc, nan]\n",
      "6    [cadr, festival, bar, bar, dérout, imprévisibl...\n",
      "7    [cadr, festival, bar, bar, dj, barbarpap, excl...\n",
      "dtype: object\n"
     ]
    }
   ],
   "source": [
    "from nltk.stem.porter import PorterStemmer\n",
    "from nltk.stem.snowball import FrenchStemmer\n",
    "\n",
    "stemmer = FrenchStemmer()\n",
    "tokens_stem_serie = pd.Series()\n",
    "i = 0\n",
    "# Create p_stemmer of class PorterStemmer\n",
    "# p_stemmer = PorterStemmer()\n",
    "\n",
    "for stop_word_token in tokens_stop_serie:\n",
    "    # stem token\n",
    "    stemmed_tokens = [stemmer.stem(i) for i in stop_word_token]\n",
    "    tokens_stem_serie = tokens_stem_serie.set_value(i,stemmed_tokens)\n",
    "    i += 1\n",
    "\n",
    "print(tokens_stem_serie[0:8])\n"
   ]
  },
  {
   "cell_type": "markdown",
   "metadata": {},
   "source": [
    "# Constructing a document-term matrix"
   ]
  },
  {
   "cell_type": "code",
   "execution_count": 223,
   "metadata": {
    "collapsed": false
   },
   "outputs": [
    {
     "name": "stderr",
     "output_type": "stream",
     "text": [
      "INFO:gensim.corpora.dictionary:adding document #0 to Dictionary(0 unique tokens: [])\n",
      "INFO:gensim.corpora.dictionary:built Dictionary(8055 unique tokens: ['tabli', 'aftershow', 'silhouet', 'rideau', 'sj53clqrdf8']...) from 950 documents (total 43296 corpus positions)\n",
      "INFO:gensim.models.ldamodel:using symmetric alpha at 0.1\n",
      "INFO:gensim.models.ldamodel:using symmetric eta at 0.00012414649286157667\n",
      "INFO:gensim.models.ldamodel:using serial LDA version on this node\n"
     ]
    },
    {
     "name": "stdout",
     "output_type": "stream",
     "text": [
      "[(0, 1), (1, 1), (2, 1), (3, 2), (4, 1), (5, 1), (6, 1), (7, 1), (8, 1), (9, 1), (10, 2), (11, 1), (12, 1), (13, 1), (14, 1), (15, 1), (16, 1), (17, 1), (18, 1), (19, 1), (20, 1), (21, 1), (22, 1), (23, 2), (24, 1), (25, 1), (26, 2), (27, 1), (28, 1), (29, 1), (30, 1), (31, 1), (32, 1), (33, 1), (34, 1), (35, 1), (36, 1), (37, 2), (38, 1), (39, 2), (40, 1), (41, 1), (42, 1), (43, 1), (44, 1), (45, 1), (46, 1), (47, 5), (48, 1), (49, 1), (50, 1), (51, 1), (52, 1), (53, 1), (54, 1), (55, 1), (56, 1), (57, 1), (58, 1), (59, 1), (60, 1), (61, 1), (62, 1), (63, 1), (64, 2), (65, 1), (66, 3), (67, 1), (68, 1), (69, 2), (70, 1), (71, 1), (72, 1), (73, 1), (74, 1), (75, 1), (76, 1), (77, 1), (78, 1)]\n"
     ]
    },
    {
     "name": "stderr",
     "output_type": "stream",
     "text": [
      "INFO:gensim.models.ldamodel:running online LDA training, 10 topics, 20 passes over the supplied corpus of 950 documents, updating model once every 950 documents, evaluating perplexity every 950 documents, iterating 50x with a convergence threshold of 0.001000\n",
      "INFO:gensim.models.ldamodel:-11.745 per-word bound, 3432.4 perplexity estimate based on a held-out corpus of 950 documents with 43296 words\n",
      "INFO:gensim.models.ldamodel:PROGRESS: pass 0, at document #950/950\n",
      "INFO:gensim.models.ldamodel:topic #0 (0.100): 0.012*\"nan\" + 0.008*\"http\" + 0.008*\"www\" + 0.006*\"com\" + 0.005*\"facebook\" + 0.004*\"s\" + 0.004*\"nant\" + 0.004*\"bar\" + 0.004*\"ven\" + 0.004*\"découvr\"\n",
      "INFO:gensim.models.ldamodel:topic #3 (0.100): 0.012*\"http\" + 0.009*\"www\" + 0.008*\"com\" + 0.007*\"nant\" + 0.006*\"facebook\" + 0.005*\"visit\" + 0.005*\"exposit\" + 0.004*\"s\" + 0.004*\"bar\" + 0.004*\"présent\"\n",
      "INFO:gensim.models.ldamodel:topic #6 (0.100): 0.005*\"utilis\" + 0.005*\"nant\" + 0.005*\"nan\" + 0.004*\"mis\" + 0.004*\"découvert\" + 0.004*\"organis\" + 0.004*\"bas\" + 0.004*\"form\" + 0.004*\"architectur\" + 0.003*\"text\"\n",
      "INFO:gensim.models.ldamodel:topic #5 (0.100): 0.020*\"http\" + 0.018*\"bar\" + 0.015*\"com\" + 0.014*\"www\" + 0.010*\"facebook\" + 0.010*\"festival\" + 0.010*\"cadr\" + 0.008*\"nant\" + 0.005*\"s\" + 0.005*\"visit\"\n",
      "INFO:gensim.models.ldamodel:topic #1 (0.100): 0.010*\"bar\" + 0.008*\"nant\" + 0.006*\"docu\" + 0.005*\"nan\" + 0.005*\"lign\" + 0.005*\"cadr\" + 0.005*\"http\" + 0.005*\"découvr\" + 0.005*\"festival\" + 0.004*\"www\"\n",
      "INFO:gensim.models.ldamodel:topic diff=5.509139, rho=1.000000\n",
      "INFO:gensim.models.ldamodel:-8.613 per-word bound, 391.5 perplexity estimate based on a held-out corpus of 950 documents with 43296 words\n",
      "INFO:gensim.models.ldamodel:PROGRESS: pass 1, at document #950/950\n",
      "INFO:gensim.models.ldamodel:topic #6 (0.100): 0.007*\"utilis\" + 0.006*\"text\" + 0.005*\"imag\" + 0.005*\"bas\" + 0.005*\"nan\" + 0.005*\"organis\" + 0.005*\"format\" + 0.004*\"mis\" + 0.004*\"form\" + 0.004*\"nant\"\n",
      "INFO:gensim.models.ldamodel:topic #0 (0.100): 0.014*\"nan\" + 0.006*\"http\" + 0.005*\"nant\" + 0.005*\"www\" + 0.005*\"ven\" + 0.004*\"plus\" + 0.004*\"ateli\" + 0.004*\"s\" + 0.004*\"univers\" + 0.004*\"rencontr\"\n",
      "INFO:gensim.models.ldamodel:topic #4 (0.100): 0.012*\"http\" + 0.011*\"bar\" + 0.010*\"nant\" + 0.007*\"festival\" + 0.007*\"cadr\" + 0.007*\"www\" + 0.005*\"com\" + 0.004*\"amp\" + 0.004*\"s\" + 0.004*\"ateli\"\n",
      "INFO:gensim.models.ldamodel:topic #2 (0.100): 0.012*\"nant\" + 0.009*\"bar\" + 0.008*\"http\" + 0.007*\"www\" + 0.006*\"musiqu\" + 0.006*\"s\" + 0.005*\"cadr\" + 0.005*\"com\" + 0.005*\"exposit\" + 0.004*\"festival\"\n",
      "INFO:gensim.models.ldamodel:topic #9 (0.100): 0.009*\"nant\" + 0.006*\"http\" + 0.006*\"visit\" + 0.005*\"e\" + 0.005*\"histoir\" + 0.005*\"plus\" + 0.005*\"fr\" + 0.004*\"découvr\" + 0.004*\"s\" + 0.004*\"www\"\n",
      "INFO:gensim.models.ldamodel:topic diff=0.674040, rho=0.577350\n",
      "INFO:gensim.models.ldamodel:-8.339 per-word bound, 323.8 perplexity estimate based on a held-out corpus of 950 documents with 43296 words\n",
      "INFO:gensim.models.ldamodel:PROGRESS: pass 2, at document #950/950\n",
      "INFO:gensim.models.ldamodel:topic #1 (0.100): 0.009*\"photos\" + 0.009*\"docu\" + 0.008*\"s\" + 0.008*\"pris\" + 0.007*\"utilis\" + 0.007*\"contenu\" + 0.007*\"fr\" + 0.007*\"partag\" + 0.007*\"contact\" + 0.006*\"lign\"\n",
      "INFO:gensim.models.ldamodel:topic #3 (0.100): 0.008*\"http\" + 0.008*\"nant\" + 0.008*\"www\" + 0.006*\"visit\" + 0.005*\"exposit\" + 0.005*\"com\" + 0.005*\"présent\" + 0.005*\"découvr\" + 0.004*\"facebook\" + 0.004*\"mus\"\n",
      "INFO:gensim.models.ldamodel:topic #8 (0.100): 0.038*\"http\" + 0.037*\"bar\" + 0.037*\"com\" + 0.023*\"www\" + 0.018*\"festival\" + 0.017*\"cadr\" + 0.015*\"facebook\" + 0.007*\"rock\" + 0.006*\"youtub\" + 0.005*\"watch\"\n",
      "INFO:gensim.models.ldamodel:topic #4 (0.100): 0.011*\"http\" + 0.010*\"nant\" + 0.010*\"bar\" + 0.006*\"festival\" + 0.006*\"cadr\" + 0.006*\"www\" + 0.005*\"amp\" + 0.005*\"com\" + 0.004*\"ateli\" + 0.004*\"s\"\n",
      "INFO:gensim.models.ldamodel:topic #0 (0.100): 0.015*\"nan\" + 0.006*\"nant\" + 0.005*\"ven\" + 0.005*\"plus\" + 0.005*\"http\" + 0.005*\"ateli\" + 0.004*\"univers\" + 0.004*\"étudi\" + 0.004*\"rencontr\" + 0.004*\"s\"\n",
      "INFO:gensim.models.ldamodel:topic diff=0.490870, rho=0.500000\n",
      "INFO:gensim.models.ldamodel:-8.212 per-word bound, 296.5 perplexity estimate based on a held-out corpus of 950 documents with 43296 words\n",
      "INFO:gensim.models.ldamodel:PROGRESS: pass 3, at document #950/950\n",
      "INFO:gensim.models.ldamodel:topic #3 (0.100): 0.008*\"nant\" + 0.008*\"http\" + 0.007*\"www\" + 0.006*\"visit\" + 0.006*\"exposit\" + 0.005*\"découvr\" + 0.005*\"présent\" + 0.004*\"com\" + 0.004*\"mus\" + 0.004*\"collect\"\n",
      "INFO:gensim.models.ldamodel:topic #6 (0.100): 0.009*\"imag\" + 0.008*\"utilis\" + 0.008*\"text\" + 0.007*\"bas\" + 0.006*\"format\" + 0.006*\"organis\" + 0.005*\"pag\" + 0.005*\"mis\" + 0.005*\"tableau\" + 0.005*\"bloc\"\n",
      "INFO:gensim.models.ldamodel:topic #1 (0.100): 0.011*\"photos\" + 0.010*\"contenu\" + 0.010*\"s\" + 0.009*\"docu\" + 0.009*\"contact\" + 0.009*\"utilis\" + 0.008*\"fr\" + 0.008*\"assomediagraph\" + 0.008*\"pris\" + 0.007*\"inscrir\"\n",
      "INFO:gensim.models.ldamodel:topic #0 (0.100): 0.016*\"nan\" + 0.006*\"nant\" + 0.006*\"ven\" + 0.005*\"plus\" + 0.005*\"univers\" + 0.005*\"ateli\" + 0.005*\"étudi\" + 0.004*\"rencontr\" + 0.004*\"programm\" + 0.004*\"pédagog\"\n",
      "INFO:gensim.models.ldamodel:topic #8 (0.100): 0.041*\"bar\" + 0.041*\"http\" + 0.039*\"com\" + 0.025*\"www\" + 0.020*\"festival\" + 0.018*\"cadr\" + 0.016*\"facebook\" + 0.007*\"rock\" + 0.007*\"youtub\" + 0.006*\"watch\"\n",
      "INFO:gensim.models.ldamodel:topic diff=0.351389, rho=0.447214\n",
      "INFO:gensim.models.ldamodel:-8.146 per-word bound, 283.3 perplexity estimate based on a held-out corpus of 950 documents with 43296 words\n",
      "INFO:gensim.models.ldamodel:PROGRESS: pass 4, at document #950/950\n",
      "INFO:gensim.models.ldamodel:topic #3 (0.100): 0.009*\"nant\" + 0.007*\"http\" + 0.007*\"visit\" + 0.006*\"www\" + 0.006*\"exposit\" + 0.005*\"découvr\" + 0.005*\"présent\" + 0.005*\"mus\" + 0.004*\"collect\" + 0.004*\"musiqu\"\n",
      "INFO:gensim.models.ldamodel:topic #6 (0.100): 0.010*\"imag\" + 0.008*\"utilis\" + 0.008*\"text\" + 0.008*\"bas\" + 0.007*\"format\" + 0.006*\"organis\" + 0.005*\"pag\" + 0.005*\"tableau\" + 0.005*\"bloc\" + 0.005*\"mis\"\n",
      "INFO:gensim.models.ldamodel:topic #9 (0.100): 0.010*\"nant\" + 0.007*\"e\" + 0.006*\"visit\" + 0.006*\"plus\" + 0.005*\"citoyen\" + 0.005*\"histoir\" + 0.005*\"quarti\" + 0.004*\"s\" + 0.004*\"fr\" + 0.004*\"découvr\"\n",
      "INFO:gensim.models.ldamodel:topic #0 (0.100): 0.017*\"nan\" + 0.007*\"nant\" + 0.006*\"ven\" + 0.005*\"univers\" + 0.005*\"plus\" + 0.005*\"étudi\" + 0.005*\"ateli\" + 0.005*\"rencontr\" + 0.004*\"programm\" + 0.004*\"pédagog\"\n",
      "INFO:gensim.models.ldamodel:topic #7 (0.100): 0.021*\"bar\" + 0.021*\"http\" + 0.014*\"www\" + 0.014*\"com\" + 0.011*\"festival\" + 0.011*\"cadr\" + 0.009*\"s\" + 0.008*\"architectur\" + 0.008*\"nant\" + 0.005*\"musiqu\"\n",
      "INFO:gensim.models.ldamodel:topic diff=0.251053, rho=0.408248\n",
      "INFO:gensim.models.ldamodel:-8.108 per-word bound, 276.0 perplexity estimate based on a held-out corpus of 950 documents with 43296 words\n",
      "INFO:gensim.models.ldamodel:PROGRESS: pass 5, at document #950/950\n",
      "INFO:gensim.models.ldamodel:topic #6 (0.100): 0.010*\"imag\" + 0.008*\"text\" + 0.008*\"utilis\" + 0.008*\"bas\" + 0.007*\"format\" + 0.006*\"organis\" + 0.006*\"pag\" + 0.005*\"tableau\" + 0.005*\"bloc\" + 0.005*\"logiciel\"\n",
      "INFO:gensim.models.ldamodel:topic #3 (0.100): 0.009*\"nant\" + 0.007*\"visit\" + 0.006*\"exposit\" + 0.006*\"http\" + 0.006*\"www\" + 0.005*\"découvr\" + 0.005*\"présent\" + 0.005*\"mus\" + 0.004*\"collect\" + 0.004*\"musiqu\"\n",
      "INFO:gensim.models.ldamodel:topic #4 (0.100): 0.011*\"nant\" + 0.008*\"http\" + 0.008*\"bar\" + 0.006*\"amp\" + 0.005*\"cadr\" + 0.005*\"festival\" + 0.004*\"ateli\" + 0.004*\"organis\" + 0.004*\"dj\" + 0.004*\"vill\"\n",
      "INFO:gensim.models.ldamodel:topic #9 (0.100): 0.010*\"nant\" + 0.007*\"e\" + 0.007*\"visit\" + 0.006*\"plus\" + 0.005*\"citoyen\" + 0.005*\"quarti\" + 0.004*\"histoir\" + 0.004*\"s\" + 0.004*\"découvr\" + 0.004*\"fr\"\n",
      "INFO:gensim.models.ldamodel:topic #2 (0.100): 0.013*\"nant\" + 0.006*\"exposit\" + 0.006*\"projet\" + 0.005*\"s\" + 0.005*\"part\" + 0.005*\"musiqu\" + 0.005*\"www\" + 0.004*\"présent\" + 0.004*\"http\" + 0.004*\"plus\"\n",
      "INFO:gensim.models.ldamodel:topic diff=0.181678, rho=0.377964\n",
      "INFO:gensim.models.ldamodel:-8.084 per-word bound, 271.3 perplexity estimate based on a held-out corpus of 950 documents with 43296 words\n",
      "INFO:gensim.models.ldamodel:PROGRESS: pass 6, at document #950/950\n",
      "INFO:gensim.models.ldamodel:topic #9 (0.100): 0.010*\"nant\" + 0.007*\"e\" + 0.007*\"visit\" + 0.006*\"plus\" + 0.005*\"citoyen\" + 0.005*\"quarti\" + 0.004*\"histoir\" + 0.004*\"s\" + 0.004*\"découvr\" + 0.004*\"fr\"\n",
      "INFO:gensim.models.ldamodel:topic #2 (0.100): 0.013*\"nant\" + 0.007*\"exposit\" + 0.006*\"projet\" + 0.005*\"s\" + 0.005*\"part\" + 0.005*\"musiqu\" + 0.004*\"présent\" + 0.004*\"www\" + 0.004*\"plus\" + 0.004*\"http\"\n",
      "INFO:gensim.models.ldamodel:topic #5 (0.100): 0.020*\"http\" + 0.016*\"bar\" + 0.015*\"www\" + 0.014*\"com\" + 0.009*\"nant\" + 0.009*\"facebook\" + 0.009*\"festival\" + 0.008*\"cadr\" + 0.007*\"samed\" + 0.006*\"dimanch\"\n",
      "INFO:gensim.models.ldamodel:topic #8 (0.100): 0.047*\"bar\" + 0.045*\"http\" + 0.044*\"com\" + 0.029*\"www\" + 0.023*\"festival\" + 0.022*\"cadr\" + 0.018*\"facebook\" + 0.008*\"rock\" + 0.008*\"youtub\" + 0.007*\"v\"\n",
      "INFO:gensim.models.ldamodel:topic #6 (0.100): 0.011*\"imag\" + 0.009*\"text\" + 0.008*\"utilis\" + 0.008*\"bas\" + 0.007*\"format\" + 0.006*\"organis\" + 0.005*\"pag\" + 0.005*\"tableau\" + 0.005*\"logiciel\" + 0.005*\"bloc\"\n",
      "INFO:gensim.models.ldamodel:topic diff=0.133442, rho=0.353553\n",
      "INFO:gensim.models.ldamodel:-8.067 per-word bound, 268.1 perplexity estimate based on a held-out corpus of 950 documents with 43296 words\n",
      "INFO:gensim.models.ldamodel:PROGRESS: pass 7, at document #950/950\n",
      "INFO:gensim.models.ldamodel:topic #5 (0.100): 0.020*\"http\" + 0.016*\"bar\" + 0.015*\"www\" + 0.013*\"com\" + 0.010*\"nant\" + 0.008*\"facebook\" + 0.008*\"festival\" + 0.008*\"cadr\" + 0.007*\"samed\" + 0.006*\"dimanch\"\n",
      "INFO:gensim.models.ldamodel:topic #1 (0.100): 0.015*\"contenu\" + 0.013*\"contact\" + 0.013*\"utilis\" + 0.012*\"s\" + 0.012*\"photos\" + 0.012*\"cré\" + 0.012*\"fr\" + 0.011*\"assomediagraph\" + 0.010*\"inscrir\" + 0.010*\"docu\"\n",
      "INFO:gensim.models.ldamodel:topic #3 (0.100): 0.009*\"nant\" + 0.007*\"visit\" + 0.007*\"exposit\" + 0.005*\"découvr\" + 0.005*\"www\" + 0.005*\"mus\" + 0.005*\"http\" + 0.005*\"présent\" + 0.004*\"collect\" + 0.004*\"musiqu\"\n",
      "INFO:gensim.models.ldamodel:topic #0 (0.100): 0.019*\"nan\" + 0.007*\"nant\" + 0.006*\"ven\" + 0.006*\"univers\" + 0.005*\"étudi\" + 0.005*\"plus\" + 0.005*\"ateli\" + 0.005*\"programm\" + 0.005*\"rencontr\" + 0.005*\"conférent\"\n",
      "INFO:gensim.models.ldamodel:topic #6 (0.100): 0.011*\"imag\" + 0.009*\"text\" + 0.008*\"bas\" + 0.008*\"utilis\" + 0.007*\"format\" + 0.006*\"organis\" + 0.005*\"tableau\" + 0.005*\"pag\" + 0.005*\"logiciel\" + 0.005*\"bloc\"\n",
      "INFO:gensim.models.ldamodel:topic diff=0.099586, rho=0.333333\n",
      "INFO:gensim.models.ldamodel:-8.054 per-word bound, 265.8 perplexity estimate based on a held-out corpus of 950 documents with 43296 words\n",
      "INFO:gensim.models.ldamodel:PROGRESS: pass 8, at document #950/950\n",
      "INFO:gensim.models.ldamodel:topic #6 (0.100): 0.011*\"imag\" + 0.009*\"text\" + 0.008*\"bas\" + 0.008*\"utilis\" + 0.007*\"format\" + 0.006*\"organis\" + 0.005*\"tableau\" + 0.005*\"pag\" + 0.005*\"couleur\" + 0.005*\"logiciel\"\n",
      "INFO:gensim.models.ldamodel:topic #1 (0.100): 0.015*\"contenu\" + 0.013*\"utilis\" + 0.013*\"contact\" + 0.013*\"s\" + 0.012*\"cré\" + 0.012*\"photos\" + 0.012*\"fr\" + 0.011*\"assomediagraph\" + 0.010*\"inscrir\" + 0.010*\"docu\"\n",
      "INFO:gensim.models.ldamodel:topic #0 (0.100): 0.019*\"nan\" + 0.007*\"nant\" + 0.006*\"univers\" + 0.006*\"ven\" + 0.005*\"étudi\" + 0.005*\"plus\" + 0.005*\"ateli\" + 0.005*\"programm\" + 0.005*\"rencontr\" + 0.005*\"initi\"\n",
      "INFO:gensim.models.ldamodel:topic #8 (0.100): 0.050*\"bar\" + 0.047*\"http\" + 0.045*\"com\" + 0.030*\"www\" + 0.025*\"festival\" + 0.023*\"cadr\" + 0.019*\"facebook\" + 0.008*\"rock\" + 0.008*\"youtub\" + 0.007*\"v\"\n",
      "INFO:gensim.models.ldamodel:topic #4 (0.100): 0.011*\"nant\" + 0.007*\"http\" + 0.006*\"amp\" + 0.005*\"bar\" + 0.005*\"organis\" + 0.005*\"ateli\" + 0.004*\"vill\" + 0.004*\"dj\" + 0.004*\"cadr\" + 0.004*\"numer\"\n",
      "INFO:gensim.models.ldamodel:topic diff=0.075668, rho=0.316228\n",
      "INFO:gensim.models.ldamodel:-8.045 per-word bound, 264.1 perplexity estimate based on a held-out corpus of 950 documents with 43296 words\n",
      "INFO:gensim.models.ldamodel:PROGRESS: pass 9, at document #950/950\n",
      "INFO:gensim.models.ldamodel:topic #6 (0.100): 0.012*\"imag\" + 0.009*\"text\" + 0.008*\"bas\" + 0.007*\"format\" + 0.007*\"utilis\" + 0.006*\"organis\" + 0.005*\"tableau\" + 0.005*\"couleur\" + 0.005*\"pag\" + 0.005*\"logiciel\"\n",
      "INFO:gensim.models.ldamodel:topic #9 (0.100): 0.010*\"nant\" + 0.007*\"e\" + 0.007*\"visit\" + 0.006*\"plus\" + 0.005*\"quarti\" + 0.005*\"citoyen\" + 0.004*\"histoir\" + 0.004*\"s\" + 0.004*\"découvr\" + 0.004*\"fr\"\n",
      "INFO:gensim.models.ldamodel:topic #1 (0.100): 0.015*\"contenu\" + 0.014*\"utilis\" + 0.013*\"contact\" + 0.013*\"s\" + 0.013*\"cré\" + 0.012*\"photos\" + 0.012*\"fr\" + 0.011*\"assomediagraph\" + 0.010*\"inscrir\" + 0.010*\"docu\"\n",
      "INFO:gensim.models.ldamodel:topic #7 (0.100): 0.019*\"bar\" + 0.018*\"http\" + 0.013*\"www\" + 0.012*\"com\" + 0.010*\"festival\" + 0.010*\"cadr\" + 0.009*\"s\" + 0.009*\"architectur\" + 0.007*\"nant\" + 0.006*\"amp\"\n",
      "INFO:gensim.models.ldamodel:topic #4 (0.100): 0.011*\"nant\" + 0.006*\"http\" + 0.006*\"amp\" + 0.005*\"organis\" + 0.005*\"ateli\" + 0.005*\"bar\" + 0.004*\"vill\" + 0.004*\"dj\" + 0.004*\"numer\" + 0.004*\"citoyen\"\n",
      "INFO:gensim.models.ldamodel:topic diff=0.058764, rho=0.301511\n",
      "INFO:gensim.models.ldamodel:-8.038 per-word bound, 262.7 perplexity estimate based on a held-out corpus of 950 documents with 43296 words\n",
      "INFO:gensim.models.ldamodel:PROGRESS: pass 10, at document #950/950\n",
      "INFO:gensim.models.ldamodel:topic #8 (0.100): 0.052*\"bar\" + 0.049*\"http\" + 0.047*\"com\" + 0.031*\"www\" + 0.026*\"festival\" + 0.024*\"cadr\" + 0.020*\"facebook\" + 0.009*\"rock\" + 0.008*\"youtub\" + 0.007*\"v\"\n",
      "INFO:gensim.models.ldamodel:topic #9 (0.100): 0.010*\"nant\" + 0.007*\"e\" + 0.007*\"visit\" + 0.006*\"plus\" + 0.005*\"quarti\" + 0.005*\"citoyen\" + 0.004*\"histoir\" + 0.004*\"s\" + 0.004*\"découvr\" + 0.004*\"fr\"\n",
      "INFO:gensim.models.ldamodel:topic #7 (0.100): 0.018*\"bar\" + 0.018*\"http\" + 0.013*\"www\" + 0.011*\"com\" + 0.010*\"festival\" + 0.010*\"cadr\" + 0.009*\"architectur\" + 0.009*\"s\" + 0.007*\"nant\" + 0.006*\"amp\"\n",
      "INFO:gensim.models.ldamodel:topic #4 (0.100): 0.011*\"nant\" + 0.006*\"amp\" + 0.006*\"http\" + 0.005*\"organis\" + 0.005*\"ateli\" + 0.004*\"vill\" + 0.004*\"numer\" + 0.004*\"dj\" + 0.004*\"citoyen\" + 0.004*\"servic\"\n",
      "INFO:gensim.models.ldamodel:topic #0 (0.100): 0.019*\"nan\" + 0.008*\"nant\" + 0.006*\"univers\" + 0.006*\"ven\" + 0.005*\"étudi\" + 0.005*\"plus\" + 0.005*\"programm\" + 0.005*\"ateli\" + 0.005*\"initi\" + 0.005*\"rencontr\"\n",
      "INFO:gensim.models.ldamodel:topic diff=0.046612, rho=0.288675\n",
      "INFO:gensim.models.ldamodel:-8.031 per-word bound, 261.6 perplexity estimate based on a held-out corpus of 950 documents with 43296 words\n",
      "INFO:gensim.models.ldamodel:PROGRESS: pass 11, at document #950/950\n",
      "INFO:gensim.models.ldamodel:topic #6 (0.100): 0.012*\"imag\" + 0.009*\"text\" + 0.008*\"format\" + 0.008*\"bas\" + 0.007*\"utilis\" + 0.006*\"organis\" + 0.006*\"couleur\" + 0.006*\"tableau\" + 0.005*\"bloc\" + 0.005*\"pag\"\n",
      "INFO:gensim.models.ldamodel:topic #2 (0.100): 0.013*\"nant\" + 0.007*\"exposit\" + 0.007*\"projet\" + 0.005*\"part\" + 0.005*\"s\" + 0.005*\"présent\" + 0.004*\"musiqu\" + 0.004*\"plus\" + 0.003*\"www\" + 0.003*\"2016\"\n",
      "INFO:gensim.models.ldamodel:topic #0 (0.100): 0.020*\"nan\" + 0.008*\"nant\" + 0.006*\"univers\" + 0.006*\"ven\" + 0.005*\"étudi\" + 0.005*\"plus\" + 0.005*\"programm\" + 0.005*\"ateli\" + 0.005*\"initi\" + 0.005*\"rencontr\"\n",
      "INFO:gensim.models.ldamodel:topic #7 (0.100): 0.018*\"bar\" + 0.017*\"http\" + 0.012*\"www\" + 0.011*\"com\" + 0.009*\"cadr\" + 0.009*\"festival\" + 0.009*\"s\" + 0.009*\"architectur\" + 0.007*\"nant\" + 0.006*\"amp\"\n",
      "INFO:gensim.models.ldamodel:topic #3 (0.100): 0.009*\"nant\" + 0.007*\"visit\" + 0.007*\"exposit\" + 0.005*\"découvr\" + 0.005*\"mus\" + 0.005*\"présent\" + 0.004*\"collect\" + 0.004*\"livr\" + 0.004*\"www\" + 0.004*\"musiqu\"\n",
      "INFO:gensim.models.ldamodel:topic diff=0.037711, rho=0.277350\n",
      "INFO:gensim.models.ldamodel:-8.026 per-word bound, 260.7 perplexity estimate based on a held-out corpus of 950 documents with 43296 words\n",
      "INFO:gensim.models.ldamodel:PROGRESS: pass 12, at document #950/950\n",
      "INFO:gensim.models.ldamodel:topic #6 (0.100): 0.012*\"imag\" + 0.009*\"text\" + 0.008*\"format\" + 0.008*\"bas\" + 0.007*\"utilis\" + 0.006*\"organis\" + 0.006*\"couleur\" + 0.006*\"tableau\" + 0.005*\"bloc\" + 0.005*\"logiciel\"\n",
      "INFO:gensim.models.ldamodel:topic #4 (0.100): 0.011*\"nant\" + 0.006*\"amp\" + 0.005*\"organis\" + 0.005*\"http\" + 0.005*\"ateli\" + 0.004*\"vill\" + 0.004*\"numer\" + 0.004*\"citoyen\" + 0.004*\"dj\" + 0.004*\"servic\"\n",
      "INFO:gensim.models.ldamodel:topic #1 (0.100): 0.015*\"contenu\" + 0.014*\"utilis\" + 0.014*\"contact\" + 0.014*\"cré\" + 0.013*\"s\" + 0.012*\"fr\" + 0.012*\"photos\" + 0.012*\"assomediagraph\" + 0.011*\"inscrir\" + 0.010*\"docu\"\n",
      "INFO:gensim.models.ldamodel:topic #9 (0.100): 0.010*\"nant\" + 0.007*\"e\" + 0.007*\"visit\" + 0.006*\"plus\" + 0.006*\"quarti\" + 0.005*\"citoyen\" + 0.005*\"histoir\" + 0.004*\"s\" + 0.004*\"découvr\" + 0.004*\"fr\"\n",
      "INFO:gensim.models.ldamodel:topic #2 (0.100): 0.013*\"nant\" + 0.007*\"exposit\" + 0.007*\"projet\" + 0.005*\"part\" + 0.005*\"s\" + 0.005*\"présent\" + 0.004*\"musiqu\" + 0.004*\"plus\" + 0.003*\"2016\" + 0.003*\"www\"\n",
      "INFO:gensim.models.ldamodel:topic diff=0.031112, rho=0.267261\n",
      "INFO:gensim.models.ldamodel:-8.022 per-word bound, 259.9 perplexity estimate based on a held-out corpus of 950 documents with 43296 words\n",
      "INFO:gensim.models.ldamodel:PROGRESS: pass 13, at document #950/950\n",
      "INFO:gensim.models.ldamodel:topic #4 (0.100): 0.011*\"nant\" + 0.006*\"amp\" + 0.005*\"organis\" + 0.005*\"http\" + 0.005*\"ateli\" + 0.004*\"numer\" + 0.004*\"vill\" + 0.004*\"citoyen\" + 0.004*\"dj\" + 0.004*\"servic\"\n",
      "INFO:gensim.models.ldamodel:topic #5 (0.100): 0.017*\"http\" + 0.013*\"www\" + 0.011*\"bar\" + 0.011*\"nant\" + 0.009*\"com\" + 0.007*\"samed\" + 0.007*\"jsp\" + 0.006*\"dimanch\" + 0.006*\"facebook\" + 0.006*\"festival\"\n",
      "INFO:gensim.models.ldamodel:topic #3 (0.100): 0.009*\"nant\" + 0.007*\"exposit\" + 0.007*\"visit\" + 0.006*\"découvr\" + 0.005*\"mus\" + 0.005*\"présent\" + 0.004*\"collect\" + 0.004*\"samed\" + 0.004*\"livr\" + 0.004*\"musiqu\"\n",
      "INFO:gensim.models.ldamodel:topic #8 (0.100): 0.054*\"bar\" + 0.051*\"http\" + 0.048*\"com\" + 0.032*\"www\" + 0.027*\"festival\" + 0.025*\"cadr\" + 0.021*\"facebook\" + 0.009*\"rock\" + 0.008*\"youtub\" + 0.007*\"musiqu\"\n",
      "INFO:gensim.models.ldamodel:topic #9 (0.100): 0.010*\"nant\" + 0.007*\"e\" + 0.007*\"visit\" + 0.006*\"plus\" + 0.006*\"quarti\" + 0.005*\"citoyen\" + 0.005*\"histoir\" + 0.004*\"s\" + 0.004*\"découvr\" + 0.004*\"fr\"\n",
      "INFO:gensim.models.ldamodel:topic diff=0.026104, rho=0.258199\n",
      "INFO:gensim.models.ldamodel:-8.018 per-word bound, 259.2 perplexity estimate based on a held-out corpus of 950 documents with 43296 words\n",
      "INFO:gensim.models.ldamodel:PROGRESS: pass 14, at document #950/950\n",
      "INFO:gensim.models.ldamodel:topic #3 (0.100): 0.009*\"nant\" + 0.007*\"exposit\" + 0.007*\"visit\" + 0.006*\"découvr\" + 0.005*\"mus\" + 0.005*\"présent\" + 0.004*\"samed\" + 0.004*\"collect\" + 0.004*\"livr\" + 0.004*\"musiqu\"\n",
      "INFO:gensim.models.ldamodel:topic #1 (0.100): 0.015*\"contenu\" + 0.015*\"utilis\" + 0.014*\"cré\" + 0.014*\"contact\" + 0.013*\"s\" + 0.013*\"fr\" + 0.012*\"photos\" + 0.012*\"assomediagraph\" + 0.011*\"inscrir\" + 0.010*\"docu\"\n",
      "INFO:gensim.models.ldamodel:topic #6 (0.100): 0.012*\"imag\" + 0.009*\"text\" + 0.008*\"format\" + 0.007*\"bas\" + 0.007*\"utilis\" + 0.006*\"organis\" + 0.006*\"couleur\" + 0.006*\"tableau\" + 0.005*\"bloc\" + 0.005*\"logiciel\"\n",
      "INFO:gensim.models.ldamodel:topic #8 (0.100): 0.055*\"bar\" + 0.051*\"http\" + 0.048*\"com\" + 0.032*\"www\" + 0.027*\"festival\" + 0.025*\"cadr\" + 0.021*\"facebook\" + 0.009*\"rock\" + 0.008*\"youtub\" + 0.007*\"musiqu\"\n",
      "INFO:gensim.models.ldamodel:topic #0 (0.100): 0.020*\"nan\" + 0.008*\"nant\" + 0.006*\"univers\" + 0.006*\"ven\" + 0.005*\"étudi\" + 0.005*\"initi\" + 0.005*\"plus\" + 0.005*\"programm\" + 0.005*\"ateli\" + 0.005*\"journ\"\n",
      "INFO:gensim.models.ldamodel:topic diff=0.022286, rho=0.250000\n",
      "INFO:gensim.models.ldamodel:-8.014 per-word bound, 258.6 perplexity estimate based on a held-out corpus of 950 documents with 43296 words\n",
      "INFO:gensim.models.ldamodel:PROGRESS: pass 15, at document #950/950\n",
      "INFO:gensim.models.ldamodel:topic #7 (0.100): 0.016*\"bar\" + 0.016*\"http\" + 0.011*\"www\" + 0.009*\"com\" + 0.009*\"cadr\" + 0.009*\"festival\" + 0.009*\"s\" + 0.008*\"architectur\" + 0.007*\"nant\" + 0.006*\"amp\"\n",
      "INFO:gensim.models.ldamodel:topic #1 (0.100): 0.015*\"contenu\" + 0.015*\"utilis\" + 0.014*\"cré\" + 0.014*\"contact\" + 0.013*\"s\" + 0.013*\"fr\" + 0.012*\"photos\" + 0.012*\"assomediagraph\" + 0.011*\"inscrir\" + 0.010*\"docu\"\n",
      "INFO:gensim.models.ldamodel:topic #8 (0.100): 0.055*\"bar\" + 0.051*\"http\" + 0.048*\"com\" + 0.032*\"www\" + 0.027*\"festival\" + 0.025*\"cadr\" + 0.022*\"facebook\" + 0.009*\"rock\" + 0.008*\"youtub\" + 0.007*\"musiqu\"\n",
      "INFO:gensim.models.ldamodel:topic #5 (0.100): 0.016*\"http\" + 0.013*\"www\" + 0.011*\"nant\" + 0.009*\"bar\" + 0.008*\"com\" + 0.007*\"samed\" + 0.007*\"jsp\" + 0.006*\"dimanch\" + 0.006*\"fr\" + 0.006*\"facebook\"\n",
      "INFO:gensim.models.ldamodel:topic #4 (0.100): 0.012*\"nant\" + 0.006*\"amp\" + 0.006*\"organis\" + 0.005*\"ateli\" + 0.005*\"http\" + 0.004*\"numer\" + 0.004*\"vill\" + 0.004*\"citoyen\" + 0.004*\"dj\" + 0.004*\"servic\"\n",
      "INFO:gensim.models.ldamodel:topic diff=0.019373, rho=0.242536\n",
      "INFO:gensim.models.ldamodel:-8.011 per-word bound, 258.0 perplexity estimate based on a held-out corpus of 950 documents with 43296 words\n",
      "INFO:gensim.models.ldamodel:PROGRESS: pass 16, at document #950/950\n",
      "INFO:gensim.models.ldamodel:topic #3 (0.100): 0.009*\"nant\" + 0.007*\"exposit\" + 0.007*\"visit\" + 0.006*\"découvr\" + 0.006*\"mus\" + 0.005*\"présent\" + 0.004*\"samed\" + 0.004*\"livr\" + 0.004*\"collect\" + 0.004*\"musiqu\"\n",
      "INFO:gensim.models.ldamodel:topic #0 (0.100): 0.021*\"nan\" + 0.008*\"nant\" + 0.006*\"univers\" + 0.006*\"ven\" + 0.005*\"étudi\" + 0.005*\"initi\" + 0.005*\"plus\" + 0.005*\"journ\" + 0.005*\"programm\" + 0.005*\"ateli\"\n",
      "INFO:gensim.models.ldamodel:topic #9 (0.100): 0.010*\"nant\" + 0.007*\"e\" + 0.007*\"visit\" + 0.006*\"quarti\" + 0.006*\"plus\" + 0.005*\"citoyen\" + 0.005*\"histoir\" + 0.004*\"s\" + 0.004*\"découvr\" + 0.004*\"fr\"\n",
      "INFO:gensim.models.ldamodel:topic #6 (0.100): 0.012*\"imag\" + 0.009*\"text\" + 0.008*\"format\" + 0.007*\"bas\" + 0.006*\"utilis\" + 0.006*\"organis\" + 0.006*\"couleur\" + 0.006*\"tableau\" + 0.005*\"bloc\" + 0.005*\"logiciel\"\n",
      "INFO:gensim.models.ldamodel:topic #8 (0.100): 0.055*\"bar\" + 0.052*\"http\" + 0.048*\"com\" + 0.032*\"www\" + 0.027*\"festival\" + 0.025*\"cadr\" + 0.022*\"facebook\" + 0.009*\"rock\" + 0.008*\"youtub\" + 0.007*\"musiqu\"\n",
      "INFO:gensim.models.ldamodel:topic diff=0.017034, rho=0.235702\n",
      "INFO:gensim.models.ldamodel:-8.009 per-word bound, 257.6 perplexity estimate based on a held-out corpus of 950 documents with 43296 words\n",
      "INFO:gensim.models.ldamodel:PROGRESS: pass 17, at document #950/950\n",
      "INFO:gensim.models.ldamodel:topic #3 (0.100): 0.009*\"nant\" + 0.008*\"exposit\" + 0.008*\"visit\" + 0.006*\"découvr\" + 0.006*\"mus\" + 0.005*\"présent\" + 0.004*\"samed\" + 0.004*\"livr\" + 0.004*\"collect\" + 0.004*\"musiqu\"\n",
      "INFO:gensim.models.ldamodel:topic #2 (0.100): 0.013*\"nant\" + 0.007*\"exposit\" + 0.007*\"projet\" + 0.005*\"part\" + 0.005*\"s\" + 0.005*\"présent\" + 0.004*\"musiqu\" + 0.004*\"plus\" + 0.003*\"2016\" + 0.003*\"public\"\n",
      "INFO:gensim.models.ldamodel:topic #1 (0.100): 0.016*\"contenu\" + 0.015*\"utilis\" + 0.014*\"cré\" + 0.014*\"contact\" + 0.013*\"s\" + 0.013*\"fr\" + 0.012*\"photos\" + 0.012*\"assomediagraph\" + 0.011*\"inscrir\" + 0.010*\"www\"\n",
      "INFO:gensim.models.ldamodel:topic #4 (0.100): 0.012*\"nant\" + 0.006*\"amp\" + 0.006*\"organis\" + 0.005*\"ateli\" + 0.005*\"numer\" + 0.005*\"vill\" + 0.004*\"citoyen\" + 0.004*\"http\" + 0.004*\"dj\" + 0.004*\"format\"\n",
      "INFO:gensim.models.ldamodel:topic #5 (0.100): 0.015*\"http\" + 0.012*\"www\" + 0.011*\"nant\" + 0.008*\"bar\" + 0.007*\"samed\" + 0.007*\"jsp\" + 0.007*\"com\" + 0.007*\"dimanch\" + 0.006*\"fr\" + 0.006*\"visit\"\n",
      "INFO:gensim.models.ldamodel:topic diff=0.015161, rho=0.229416\n",
      "INFO:gensim.models.ldamodel:-8.006 per-word bound, 257.1 perplexity estimate based on a held-out corpus of 950 documents with 43296 words\n",
      "INFO:gensim.models.ldamodel:PROGRESS: pass 18, at document #950/950\n",
      "INFO:gensim.models.ldamodel:topic #4 (0.100): 0.012*\"nant\" + 0.006*\"amp\" + 0.006*\"organis\" + 0.005*\"ateli\" + 0.005*\"vill\" + 0.005*\"numer\" + 0.004*\"citoyen\" + 0.004*\"http\" + 0.004*\"format\" + 0.004*\"dj\"\n",
      "INFO:gensim.models.ldamodel:topic #6 (0.100): 0.012*\"imag\" + 0.009*\"text\" + 0.008*\"format\" + 0.007*\"bas\" + 0.006*\"utilis\" + 0.006*\"organis\" + 0.006*\"couleur\" + 0.006*\"tableau\" + 0.005*\"bloc\" + 0.005*\"ger\"\n",
      "INFO:gensim.models.ldamodel:topic #9 (0.100): 0.010*\"nant\" + 0.007*\"e\" + 0.007*\"visit\" + 0.006*\"quarti\" + 0.006*\"plus\" + 0.005*\"citoyen\" + 0.005*\"histoir\" + 0.004*\"s\" + 0.004*\"découvr\" + 0.004*\"fr\"\n",
      "INFO:gensim.models.ldamodel:topic #2 (0.100): 0.013*\"nant\" + 0.007*\"exposit\" + 0.007*\"projet\" + 0.005*\"part\" + 0.005*\"s\" + 0.005*\"présent\" + 0.004*\"musiqu\" + 0.004*\"plus\" + 0.003*\"2016\" + 0.003*\"public\"\n",
      "INFO:gensim.models.ldamodel:topic #0 (0.100): 0.021*\"nan\" + 0.008*\"nant\" + 0.006*\"univers\" + 0.006*\"ven\" + 0.005*\"étudi\" + 0.005*\"initi\" + 0.005*\"journ\" + 0.005*\"plus\" + 0.005*\"programm\" + 0.005*\"ateli\"\n",
      "INFO:gensim.models.ldamodel:topic diff=0.013620, rho=0.223607\n",
      "INFO:gensim.models.ldamodel:-8.004 per-word bound, 256.7 perplexity estimate based on a held-out corpus of 950 documents with 43296 words\n",
      "INFO:gensim.models.ldamodel:PROGRESS: pass 19, at document #950/950\n",
      "INFO:gensim.models.ldamodel:topic #7 (0.100): 0.015*\"bar\" + 0.014*\"http\" + 0.011*\"www\" + 0.009*\"s\" + 0.008*\"architectur\" + 0.008*\"com\" + 0.008*\"cadr\" + 0.008*\"festival\" + 0.007*\"nant\" + 0.006*\"amp\"\n",
      "INFO:gensim.models.ldamodel:topic #2 (0.100): 0.013*\"nant\" + 0.007*\"projet\" + 0.007*\"exposit\" + 0.005*\"part\" + 0.005*\"s\" + 0.005*\"présent\" + 0.004*\"musiqu\" + 0.004*\"plus\" + 0.003*\"2016\" + 0.003*\"public\"\n",
      "INFO:gensim.models.ldamodel:topic #9 (0.100): 0.010*\"nant\" + 0.007*\"e\" + 0.007*\"visit\" + 0.006*\"quarti\" + 0.006*\"plus\" + 0.005*\"citoyen\" + 0.005*\"histoir\" + 0.004*\"s\" + 0.004*\"découvr\" + 0.004*\"fr\"\n",
      "INFO:gensim.models.ldamodel:topic #4 (0.100): 0.012*\"nant\" + 0.006*\"amp\" + 0.006*\"organis\" + 0.005*\"ateli\" + 0.005*\"vill\" + 0.005*\"numer\" + 0.004*\"citoyen\" + 0.004*\"format\" + 0.004*\"dj\" + 0.004*\"servic\"\n",
      "INFO:gensim.models.ldamodel:topic #5 (0.100): 0.014*\"http\" + 0.012*\"www\" + 0.012*\"nant\" + 0.008*\"jsp\" + 0.008*\"samed\" + 0.007*\"dimanch\" + 0.007*\"bar\" + 0.006*\"fr\" + 0.006*\"com\" + 0.006*\"visit\"\n",
      "INFO:gensim.models.ldamodel:topic diff=0.012349, rho=0.218218\n"
     ]
    }
   ],
   "source": [
    "from gensim import corpora, models\n",
    "\n",
    "dictionary = corpora.Dictionary(tokens_stem_serie)\n",
    "\n",
    "corpus = [dictionary.doc2bow(token) for token in tokens_stem_serie]\n",
    "\n",
    "# The tuples are (term ID, term frequency)\n",
    "print(corpus[0])\n",
    "\n",
    "\n",
    "ldamodel = models.ldamodel.LdaModel(corpus, num_topics=10, id2word = dictionary, passes=20)\n",
    "\n"
   ]
  },
  {
   "cell_type": "code",
   "execution_count": 224,
   "metadata": {
    "collapsed": false
   },
   "outputs": [
    {
     "name": "stderr",
     "output_type": "stream",
     "text": [
      "INFO:gensim.models.ldamodel:topic #0 (0.100): 0.021*\"nan\" + 0.008*\"nant\"\n",
      "INFO:gensim.models.ldamodel:topic #1 (0.100): 0.016*\"contenu\" + 0.015*\"utilis\"\n",
      "INFO:gensim.models.ldamodel:topic #2 (0.100): 0.013*\"nant\" + 0.007*\"projet\"\n",
      "INFO:gensim.models.ldamodel:topic #3 (0.100): 0.009*\"nant\" + 0.008*\"visit\"\n",
      "INFO:gensim.models.ldamodel:topic #4 (0.100): 0.012*\"nant\" + 0.006*\"amp\"\n",
      "INFO:gensim.models.ldamodel:topic #5 (0.100): 0.014*\"http\" + 0.012*\"www\"\n",
      "INFO:gensim.models.ldamodel:topic #6 (0.100): 0.012*\"imag\" + 0.009*\"text\"\n",
      "INFO:gensim.models.ldamodel:topic #7 (0.100): 0.015*\"bar\" + 0.014*\"http\"\n",
      "INFO:gensim.models.ldamodel:topic #8 (0.100): 0.056*\"bar\" + 0.052*\"http\"\n",
      "INFO:gensim.models.ldamodel:topic #9 (0.100): 0.010*\"nant\" + 0.007*\"e\"\n"
     ]
    },
    {
     "name": "stdout",
     "output_type": "stream",
     "text": [
      "[(0, '0.021*\"nan\" + 0.008*\"nant\"'), (1, '0.016*\"contenu\" + 0.015*\"utilis\"'), (2, '0.013*\"nant\" + 0.007*\"projet\"'), (3, '0.009*\"nant\" + 0.008*\"visit\"'), (4, '0.012*\"nant\" + 0.006*\"amp\"'), (5, '0.014*\"http\" + 0.012*\"www\"'), (6, '0.012*\"imag\" + 0.009*\"text\"'), (7, '0.015*\"bar\" + 0.014*\"http\"'), (8, '0.056*\"bar\" + 0.052*\"http\"'), (9, '0.010*\"nant\" + 0.007*\"e\"')]\n"
     ]
    }
   ],
   "source": [
    "print(ldamodel.print_topics(num_topics=10, num_words=2))"
   ]
  },
  {
   "cell_type": "code",
   "execution_count": 80,
   "metadata": {
    "collapsed": false
   },
   "outputs": [
    {
     "name": "stderr",
     "output_type": "stream",
     "text": [
      "INFO:lda:n_documents: 395\n",
      "INFO:lda:vocab_size: 4258\n",
      "INFO:lda:n_words: 84010\n",
      "INFO:lda:n_topics: 20\n",
      "INFO:lda:n_iter: 1500\n",
      "INFO:lda:<0> log likelihood: -1051748\n",
      "INFO:lda:<10> log likelihood: -719800\n",
      "INFO:lda:<20> log likelihood: -699115\n",
      "INFO:lda:<30> log likelihood: -689370\n",
      "INFO:lda:<40> log likelihood: -684918\n",
      "INFO:lda:<50> log likelihood: -681322\n",
      "INFO:lda:<60> log likelihood: -678979\n",
      "INFO:lda:<70> log likelihood: -676598\n",
      "INFO:lda:<80> log likelihood: -675383\n",
      "INFO:lda:<90> log likelihood: -673316\n",
      "INFO:lda:<100> log likelihood: -672761\n",
      "INFO:lda:<110> log likelihood: -671320\n",
      "INFO:lda:<120> log likelihood: -669744\n",
      "INFO:lda:<130> log likelihood: -669292\n",
      "INFO:lda:<140> log likelihood: -667940\n",
      "INFO:lda:<150> log likelihood: -668038\n",
      "INFO:lda:<160> log likelihood: -667429\n",
      "INFO:lda:<170> log likelihood: -666475\n",
      "INFO:lda:<180> log likelihood: -665562\n",
      "INFO:lda:<190> log likelihood: -664920\n",
      "INFO:lda:<200> log likelihood: -664979\n",
      "INFO:lda:<210> log likelihood: -664722\n",
      "INFO:lda:<220> log likelihood: -664459\n",
      "INFO:lda:<230> log likelihood: -664360\n",
      "INFO:lda:<240> log likelihood: -663600\n",
      "INFO:lda:<250> log likelihood: -664164\n",
      "INFO:lda:<260> log likelihood: -663826\n",
      "INFO:lda:<270> log likelihood: -663458\n",
      "INFO:lda:<280> log likelihood: -663393\n",
      "INFO:lda:<290> log likelihood: -662904\n",
      "INFO:lda:<300> log likelihood: -662294\n",
      "INFO:lda:<310> log likelihood: -662031\n",
      "INFO:lda:<320> log likelihood: -662430\n",
      "INFO:lda:<330> log likelihood: -661601\n",
      "INFO:lda:<340> log likelihood: -662108\n",
      "INFO:lda:<350> log likelihood: -662152\n",
      "INFO:lda:<360> log likelihood: -661899\n",
      "INFO:lda:<370> log likelihood: -661012\n",
      "INFO:lda:<380> log likelihood: -661278\n",
      "INFO:lda:<390> log likelihood: -661085\n",
      "INFO:lda:<400> log likelihood: -660418\n",
      "INFO:lda:<410> log likelihood: -660510\n",
      "INFO:lda:<420> log likelihood: -660343\n",
      "INFO:lda:<430> log likelihood: -659789\n",
      "INFO:lda:<440> log likelihood: -659336\n",
      "INFO:lda:<450> log likelihood: -659039\n",
      "INFO:lda:<460> log likelihood: -659329\n",
      "INFO:lda:<470> log likelihood: -658707\n",
      "INFO:lda:<480> log likelihood: -658879\n",
      "INFO:lda:<490> log likelihood: -658819\n",
      "INFO:lda:<500> log likelihood: -658407\n",
      "INFO:lda:<510> log likelihood: -658651\n",
      "INFO:lda:<520> log likelihood: -658111\n",
      "INFO:lda:<530> log likelihood: -658018\n",
      "INFO:lda:<540> log likelihood: -658111\n",
      "INFO:lda:<550> log likelihood: -657925\n",
      "INFO:lda:<560> log likelihood: -657860\n",
      "INFO:lda:<570> log likelihood: -657494\n",
      "INFO:lda:<580> log likelihood: -657723\n",
      "INFO:lda:<590> log likelihood: -657591\n",
      "INFO:lda:<600> log likelihood: -657557\n",
      "INFO:lda:<610> log likelihood: -657505\n",
      "INFO:lda:<620> log likelihood: -657730\n",
      "INFO:lda:<630> log likelihood: -657304\n",
      "INFO:lda:<640> log likelihood: -657208\n",
      "INFO:lda:<650> log likelihood: -657518\n",
      "INFO:lda:<660> log likelihood: -657541\n",
      "INFO:lda:<670> log likelihood: -657381\n",
      "INFO:lda:<680> log likelihood: -657575\n",
      "INFO:lda:<690> log likelihood: -656985\n",
      "INFO:lda:<700> log likelihood: -656815\n",
      "INFO:lda:<710> log likelihood: -656930\n",
      "INFO:lda:<720> log likelihood: -656538\n",
      "INFO:lda:<730> log likelihood: -656291\n",
      "INFO:lda:<740> log likelihood: -656417\n",
      "INFO:lda:<750> log likelihood: -656747\n",
      "INFO:lda:<760> log likelihood: -656600\n",
      "INFO:lda:<770> log likelihood: -656269\n",
      "INFO:lda:<780> log likelihood: -656311\n",
      "INFO:lda:<790> log likelihood: -656069\n",
      "INFO:lda:<800> log likelihood: -656228\n",
      "INFO:lda:<810> log likelihood: -656178\n",
      "INFO:lda:<820> log likelihood: -655694\n",
      "INFO:lda:<830> log likelihood: -655997\n",
      "INFO:lda:<840> log likelihood: -656224\n",
      "INFO:lda:<850> log likelihood: -656197\n",
      "INFO:lda:<860> log likelihood: -655889\n",
      "INFO:lda:<870> log likelihood: -656180\n",
      "INFO:lda:<880> log likelihood: -656997\n",
      "INFO:lda:<890> log likelihood: -655989\n",
      "INFO:lda:<900> log likelihood: -655615\n",
      "INFO:lda:<910> log likelihood: -655584\n",
      "INFO:lda:<920> log likelihood: -656602\n",
      "INFO:lda:<930> log likelihood: -656083\n",
      "INFO:lda:<940> log likelihood: -656294\n",
      "INFO:lda:<950> log likelihood: -656257\n",
      "INFO:lda:<960> log likelihood: -656243\n",
      "INFO:lda:<970> log likelihood: -656028\n",
      "INFO:lda:<980> log likelihood: -655603\n",
      "INFO:lda:<990> log likelihood: -656012\n",
      "INFO:lda:<1000> log likelihood: -655849\n",
      "INFO:lda:<1010> log likelihood: -655376\n",
      "INFO:lda:<1020> log likelihood: -655417\n",
      "INFO:lda:<1030> log likelihood: -655856\n",
      "INFO:lda:<1040> log likelihood: -655197\n",
      "INFO:lda:<1050> log likelihood: -655938\n",
      "INFO:lda:<1060> log likelihood: -655529\n",
      "INFO:lda:<1070> log likelihood: -655092\n",
      "INFO:lda:<1080> log likelihood: -655119\n",
      "INFO:lda:<1090> log likelihood: -656215\n",
      "INFO:lda:<1100> log likelihood: -655602\n",
      "INFO:lda:<1110> log likelihood: -655296\n",
      "INFO:lda:<1120> log likelihood: -655547\n",
      "INFO:lda:<1130> log likelihood: -655580\n",
      "INFO:lda:<1140> log likelihood: -655604\n",
      "INFO:lda:<1150> log likelihood: -655168\n",
      "INFO:lda:<1160> log likelihood: -655281\n",
      "INFO:lda:<1170> log likelihood: -655409\n",
      "INFO:lda:<1180> log likelihood: -655517\n",
      "INFO:lda:<1190> log likelihood: -654922\n",
      "INFO:lda:<1200> log likelihood: -655304\n",
      "INFO:lda:<1210> log likelihood: -655852\n",
      "INFO:lda:<1220> log likelihood: -655184\n",
      "INFO:lda:<1230> log likelihood: -655650\n",
      "INFO:lda:<1240> log likelihood: -655606\n",
      "INFO:lda:<1250> log likelihood: -656086\n",
      "INFO:lda:<1260> log likelihood: -655698\n",
      "INFO:lda:<1270> log likelihood: -655351\n",
      "INFO:lda:<1280> log likelihood: -655686\n",
      "INFO:lda:<1290> log likelihood: -654801\n",
      "INFO:lda:<1300> log likelihood: -654973\n",
      "INFO:lda:<1310> log likelihood: -655186\n",
      "INFO:lda:<1320> log likelihood: -655128\n",
      "INFO:lda:<1330> log likelihood: -655365\n",
      "INFO:lda:<1340> log likelihood: -655338\n",
      "INFO:lda:<1350> log likelihood: -655219\n",
      "INFO:lda:<1360> log likelihood: -655115\n",
      "INFO:lda:<1370> log likelihood: -654930\n",
      "INFO:lda:<1380> log likelihood: -655209\n",
      "INFO:lda:<1390> log likelihood: -654940\n",
      "INFO:lda:<1400> log likelihood: -655055\n",
      "INFO:lda:<1410> log likelihood: -655286\n",
      "INFO:lda:<1420> log likelihood: -655316\n",
      "INFO:lda:<1430> log likelihood: -655257\n",
      "INFO:lda:<1440> log likelihood: -654964\n",
      "INFO:lda:<1450> log likelihood: -654884\n",
      "INFO:lda:<1460> log likelihood: -655493\n",
      "INFO:lda:<1470> log likelihood: -655415\n",
      "INFO:lda:<1480> log likelihood: -655192\n",
      "INFO:lda:<1490> log likelihood: -655728\n",
      "INFO:lda:<1499> log likelihood: -655858\n"
     ]
    },
    {
     "name": "stdout",
     "output_type": "stream",
     "text": [
      "Topic 0: british churchill sale million major letters west britain\n",
      "Topic 1: church government political country state people party against\n",
      "Topic 2: elvis king fans presley life concert young death\n",
      "Topic 3: yeltsin russian russia president kremlin moscow michael operation\n",
      "Topic 4: pope vatican paul john surgery hospital pontiff rome\n",
      "Topic 5: family funeral police miami versace cunanan city service\n",
      "Topic 6: simpson former years court president wife south church\n",
      "Topic 7: order mother successor election nuns church nirmala head\n",
      "Topic 8: charles prince diana royal king queen parker bowles\n",
      "Topic 9: film french france against bardot paris poster animal\n",
      "Topic 10: germany german war nazi letter christian book jews\n",
      "Topic 11: east peace prize award timor quebec belo leader\n",
      "Topic 12: n't life show told very love television father\n",
      "Topic 13: years year time last church world people say\n",
      "Topic 14: mother teresa heart calcutta charity nun hospital missionaries\n",
      "Topic 15: city salonika capital buddhist cultural vietnam byzantine show\n",
      "Topic 16: music tour opera singer israel people film israeli\n",
      "Topic 17: church catholic bernardin cardinal bishop wright death cancer\n",
      "Topic 18: harriman clinton u.s ambassador paris president churchill france\n",
      "Topic 19: city museum art exhibition century million churches set\n"
     ]
    }
   ],
   "source": [
    "import numpy as np\n",
    "import lda\n",
    "import lda.datasets\n",
    "\n",
    "X = lda.datasets.load_reuters()\n",
    "vocab = lda.datasets.load_reuters_vocab()\n",
    "titles = lda.datasets.load_reuters_titles()\n",
    "X.shape\n",
    "(395, 4258)\n",
    "X.sum()\n",
    "84010\n",
    "model = lda.LDA(n_topics=20, n_iter=1500, random_state=1)\n",
    "model.fit(X)  # model.fit_transform(X) is also available\n",
    "topic_word = model.topic_word_  # model.components_ also works\n",
    "n_top_words = 8\n",
    "for i, topic_dist in enumerate(topic_word):\n",
    "    topic_words = np.array(vocab)[np.argsort(topic_dist)][:-(n_top_words+1):-1]     \n",
    "    print('Topic {}: {}'.format(i, ' '.join(topic_words)))\n",
    "    \n",
    "\n"
   ]
  },
  {
   "cell_type": "code",
   "execution_count": null,
   "metadata": {
    "collapsed": true
   },
   "outputs": [],
   "source": []
  },
  {
   "cell_type": "code",
   "execution_count": 94,
   "metadata": {
    "collapsed": false
   },
   "outputs": [
    {
     "name": "stdout",
     "output_type": "stream",
     "text": [
      "0 UK: Prince Charles spearheads British royal revolution. LONDON 1996-08-20 (top topic: 8)\n",
      "1 GERMANY: Historic Dresden church rising from WW2 ashes. DRESDEN, Germany 1996-08-21 (top topic: 13)\n",
      "2 INDIA: Mother Teresa's condition said still unstable. CALCUTTA 1996-08-23 (top topic: 14)\n",
      "3 UK: Palace warns British weekly over Charles pictures. LONDON 1996-08-25 (top topic: 8)\n",
      "4 INDIA: Mother Teresa, slightly stronger, blesses nuns. CALCUTTA 1996-08-25 (top topic: 14)\n",
      "5 INDIA: Mother Teresa's condition unchanged, thousands pray. CALCUTTA 1996-08-25 (top topic: 14)\n",
      "6 INDIA: Mother Teresa shows signs of strength, blesses nuns. CALCUTTA 1996-08-26 (top topic: 14)\n",
      "7 INDIA: Mother Teresa's condition improves, many pray. CALCUTTA, India 1996-08-25 (top topic: 14)\n",
      "8 INDIA: Mother Teresa improves, nuns pray for \"miracle\". CALCUTTA 1996-08-26 (top topic: 14)\n",
      "9 UK: Charles under fire over prospect of Queen Camilla. LONDON 1996-08-26 (top topic: 8)\n"
     ]
    }
   ],
   "source": [
    "doc_topic = model.doc_topic_\n",
    "for i in range(10):\n",
    "    print(\"{} (top topic: {})\".format(titles[i], doc_topic[i].argmax()))"
   ]
  },
  {
   "cell_type": "code",
   "execution_count": null,
   "metadata": {
    "collapsed": true
   },
   "outputs": [],
   "source": []
  },
  {
   "cell_type": "code",
   "execution_count": null,
   "metadata": {
    "collapsed": true
   },
   "outputs": [],
   "source": []
  },
  {
   "cell_type": "code",
   "execution_count": null,
   "metadata": {
    "collapsed": true
   },
   "outputs": [],
   "source": []
  },
  {
   "cell_type": "code",
   "execution_count": null,
   "metadata": {
    "collapsed": true
   },
   "outputs": [],
   "source": []
  },
  {
   "cell_type": "code",
   "execution_count": null,
   "metadata": {
    "collapsed": true
   },
   "outputs": [],
   "source": []
  },
  {
   "cell_type": "code",
   "execution_count": null,
   "metadata": {
    "collapsed": true
   },
   "outputs": [],
   "source": []
  },
  {
   "cell_type": "code",
   "execution_count": null,
   "metadata": {
    "collapsed": true
   },
   "outputs": [],
   "source": []
  },
  {
   "cell_type": "code",
   "execution_count": null,
   "metadata": {
    "collapsed": true
   },
   "outputs": [],
   "source": []
  },
  {
   "cell_type": "code",
   "execution_count": null,
   "metadata": {
    "collapsed": true
   },
   "outputs": [],
   "source": []
  },
  {
   "cell_type": "code",
   "execution_count": null,
   "metadata": {
    "collapsed": true
   },
   "outputs": [],
   "source": []
  },
  {
   "cell_type": "code",
   "execution_count": null,
   "metadata": {
    "collapsed": true
   },
   "outputs": [],
   "source": []
  },
  {
   "cell_type": "code",
   "execution_count": null,
   "metadata": {
    "collapsed": true
   },
   "outputs": [],
   "source": []
  },
  {
   "cell_type": "code",
   "execution_count": null,
   "metadata": {
    "collapsed": true
   },
   "outputs": [],
   "source": []
  },
  {
   "cell_type": "code",
   "execution_count": null,
   "metadata": {
    "collapsed": true
   },
   "outputs": [],
   "source": []
  },
  {
   "cell_type": "code",
   "execution_count": null,
   "metadata": {
    "collapsed": true
   },
   "outputs": [],
   "source": []
  },
  {
   "cell_type": "code",
   "execution_count": null,
   "metadata": {
    "collapsed": true
   },
   "outputs": [],
   "source": []
  },
  {
   "cell_type": "code",
   "execution_count": null,
   "metadata": {
    "collapsed": true
   },
   "outputs": [],
   "source": []
  }
 ],
 "metadata": {
  "anaconda-cloud": {},
  "kernelspec": {
   "display_name": "Python [default]",
   "language": "python",
   "name": "python3"
  },
  "language_info": {
   "codemirror_mode": {
    "name": "ipython",
    "version": 3
   },
   "file_extension": ".py",
   "mimetype": "text/x-python",
   "name": "python",
   "nbconvert_exporter": "python",
   "pygments_lexer": "ipython3",
   "version": "3.5.2"
  }
 },
 "nbformat": 4,
 "nbformat_minor": 1
}
